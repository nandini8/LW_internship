{
 "cells": [
  {
   "cell_type": "markdown",
   "metadata": {},
   "source": [
    "# Menu Program\n",
    "## DO NOT EDIT THIS OR ADD ANYTHING IN THIS"
   ]
  },
  {
   "cell_type": "code",
   "execution_count": 10,
   "metadata": {},
   "outputs": [],
   "source": [
    "def configure_hhtp_server():\n",
    "    output = sb.getoutput(config_http)\n",
    "    return(output)\n",
    "machine = \"\"\n",
    "service = \"\"\n",
    "state = \"\""
   ]
  },
  {
   "cell_type": "code",
   "execution_count": 11,
   "metadata": {},
   "outputs": [],
   "source": [
    "def service_management(service, state):\n",
    "    if state == 'start':\n",
    "        state = 'started'\n",
    "    elif state == 'stop':\n",
    "        state = 'stopped'\n",
    "    output = sb.getoutput(service_mgm)\n",
    "#     output = sb.getoutput('ansible-playbook ./playbooks/service_manage.yml --extra-vars \"service='+service+' states='+state+'\"')\n",
    "    print(output)\n",
    "    return output"
   ]
  },
  {
   "cell_type": "code",
   "execution_count": 12,
   "metadata": {},
   "outputs": [],
   "source": [
    "def linux_commands(service):\n",
    "#     output = sb.getoutput(\"ansible-playbook ./playbooks/linux_command.yml --extra-vars 'commands=\\'\"+service+\"\\''\")\n",
    "    output = sb.getoutput(basic_command)\n",
    "    print(output)\n",
    "    return output"
   ]
  },
  {
   "cell_type": "code",
   "execution_count": 13,
   "metadata": {},
   "outputs": [],
   "source": [
    "def launch_docker():\n",
    "    output = sb.getoutput(\"\")\n",
    "    print(output)\n",
    "    return output"
   ]
  },
  {
   "cell_type": "markdown",
   "metadata": {},
   "source": [
    "# Strings for commands"
   ]
  },
  {
   "cell_type": "markdown",
   "metadata": {},
   "source": [
    "#### write your playbook command in the corresponding string\n",
    "##### example: send_mail = \"ansible-playbook mail.yml\""
   ]
  },
  {
   "cell_type": "code",
   "execution_count": 14,
   "metadata": {},
   "outputs": [],
   "source": [
    "config_http = 'ansible-playbook ./playbooks/http_server.yml --extra-vars \"host=' + machine + '\"'\n",
    "service_mgm = 'ansible-playbook ./playbooks/service_manage.yml --extra-vars \"host='+machine+' service='+service+' states='+state+'\"'\n",
    "basic_command = \"ansible-playbook ./playbooks/linux_command.yml --extra-vars 'host=\"+machine+\" commands=\\'\"+service+\"\\''\"\n",
    "launch_dock = \"\"\n",
    "\n",
    "launch_firefox = \"\"\n",
    "launch_vlc = \"\"\n",
    "launch_gedit = \"\"\n",
    "\n",
    "launch_ec2 = \"\"\n",
    "del_ec2 = \"\"\n",
    "launch_ebs = \"\"\n",
    "del_ebs = \"\"\n",
    "launch_s3 = \"\"\n",
    "del_s3 = \"\"\n",
    "\n",
    "send_mail = \"\"\n",
    "\n",
    "create_part = \"\"\n",
    "create_lv = \"\"\n",
    "\n",
    "yum_config = \"\"\n",
    "create_hadoop = \"\"\n",
    "\n",
    "\n"
   ]
  },
  {
   "cell_type": "markdown",
   "metadata": {},
   "source": [
    "### Write your playbook command string (written above) in sb.getoutput()\n",
    "####  example: sb.getoutput(send_mail)\n",
    "##### send_mail is defined above"
   ]
  },
  {
   "cell_type": "code",
   "execution_count": 15,
   "metadata": {},
   "outputs": [],
   "source": [
    "def functionality(choice):\n",
    "    print(choice)\n",
    "    if ('http server' in choice or 'web server' in choice) and 'configure' in choice:\n",
    "        output = sb.getoutput(config_http)\n",
    "        \n",
    "        \n",
    "    elif 'service' in choice and 'start' in choice:\n",
    "        output = service_management('firewalld',  'start')\n",
    "        \n",
    "        \n",
    "    elif 'service' in choice and 'stop' in choice:\n",
    "        output = service_management('firewalld',  'stop')\n",
    "        \n",
    "        \n",
    "    elif 'run' in choice and 'command' in choice:\n",
    "        output = sb.getoutput(basic_command)\n",
    "        \n",
    "        \n",
    "    elif 'docker' in choice  and 'start' in choice:\n",
    "        output = sb.getoutput(launch_dock)\n",
    "        \n",
    "        \n",
    "    elif 'launch' in choice and 'firefox' in choice:\n",
    "        output = sb.getoutput(launch_firefox)\n",
    "        \n",
    "        \n",
    "    elif 'launch' in choice and 'vlc' in choice:\n",
    "        output = sb.getoutput(launch_vlc)\n",
    "        \n",
    "        \n",
    "    elif 'launch' in choice and 'gedit' in choice:\n",
    "        output = sb.getoutput(launch_gedit)\n",
    "        \n",
    "        \n",
    "    elif 'launch' in choice and 'ec2' in choice:\n",
    "        output = sb.getoutput(launch_ec2)\n",
    "        \n",
    "        \n",
    "    elif 'launch' in choice and 'ebs' in choice:\n",
    "        output = sb.getoutput(launch_ebs)\n",
    "        \n",
    "        \n",
    "    elif 'launch' in choice and 's3' in choice:\n",
    "        output = sb.getoutput(launch_s3)\n",
    "        \n",
    "        \n",
    "    elif 'send' in choice and 'mail' in choice:\n",
    "        output = sb.getoutput(send_mail)\n",
    "        \n",
    "        \n",
    "    elif 'create' in choice and 'partition' in choice:\n",
    "        output = sb.getoutput(create_part)\n",
    "        \n",
    "        \n",
    "    elif 'create' in choice and 'logical volume' in choice:\n",
    "        output = sb.getoutput(create_lv)\n",
    "        \n",
    "        \n",
    "    elif 'configure' in choice and 'yum' in choice:\n",
    "        output = sb.getoutput(yum_config)\n",
    "        \n",
    "        \n",
    "    elif 'create' in choice and 'hadoop' in choice:\n",
    "        output = sb.getoutput(create_hadoop)\n",
    "        \n",
    "        \n",
    "        \n",
    "    return output"
   ]
  },
  {
   "cell_type": "markdown",
   "metadata": {},
   "source": [
    "# Socket server\n",
    "## DO NOT EDIT THIS OR ADD ANYTHING IN THIS"
   ]
  },
  {
   "cell_type": "code",
   "execution_count": null,
   "metadata": {},
   "outputs": [],
   "source": [
    "import socket\n",
    "import subprocess as sb\n",
    " \n",
    "conn = socket.socket()\n",
    "conn.setsockopt(socket.SOL_SOCKET, socket.SO_REUSEADDR, 1)\n",
    "port = 2222\n",
    "ip = \"192.168.43.190\"\n",
    "conn.bind((ip, port))\n",
    "conn.listen()\n",
    "client, addr = conn.accept()\n",
    "while True:\n",
    "        n = client.recv(100)\n",
    "        print(n)\n",
    "        if n.decode() == \"End\":\n",
    "                break\n",
    "        x = n.decode()\n",
    "        output = functionality(x)\n",
    "        if 'failed=0' in output and 'unreachable=0' in output:\n",
    "            client.send(\"Configured\".encode())\n",
    "        else:\n",
    "            client.send(\"Could not configured\".encode())\n",
    "client.close()\n",
    "conn.close()"
   ]
  },
  {
   "cell_type": "code",
   "execution_count": null,
   "metadata": {},
   "outputs": [],
   "source": []
  },
  {
   "cell_type": "code",
   "execution_count": null,
   "metadata": {},
   "outputs": [],
   "source": []
  },
  {
   "cell_type": "code",
   "execution_count": null,
   "metadata": {},
   "outputs": [],
   "source": []
  },
  {
   "cell_type": "markdown",
   "metadata": {},
   "source": [
    "# Test function\n",
    "## DO NOT EDIT THIS OR ADD ANYTHING IN THIS"
   ]
  },
  {
   "cell_type": "code",
   "execution_count": null,
   "metadata": {},
   "outputs": [],
   "source": [
    "import pyttsx3\n",
    "import subprocess as sb\n",
    "import speech_recognition as sr"
   ]
  },
  {
   "cell_type": "code",
   "execution_count": null,
   "metadata": {},
   "outputs": [],
   "source": [
    "# speaker = pyttsx3.init()\n",
    "# speaker.say(\"Waiting for your command\")\n",
    "# speaker.runAndWait()"
   ]
  },
  {
   "cell_type": "code",
   "execution_count": null,
   "metadata": {},
   "outputs": [],
   "source": []
  },
  {
   "cell_type": "code",
   "execution_count": null,
   "metadata": {},
   "outputs": [],
   "source": [
    "output = functionality('web server start')"
   ]
  },
  {
   "cell_type": "code",
   "execution_count": null,
   "metadata": {},
   "outputs": [],
   "source": [
    "if 'failed=0' in output and 'unreachable=0' in output:\n",
    "    print(\"Configured\")"
   ]
  },
  {
   "cell_type": "code",
   "execution_count": null,
   "metadata": {},
   "outputs": [],
   "source": []
  }
 ],
 "metadata": {
  "kernelspec": {
   "display_name": "Python 3",
   "language": "python",
   "name": "python3"
  },
  "language_info": {
   "codemirror_mode": {
    "name": "ipython",
    "version": 3
   },
   "file_extension": ".py",
   "mimetype": "text/x-python",
   "name": "python",
   "nbconvert_exporter": "python",
   "pygments_lexer": "ipython3",
   "version": "3.6.6"
  }
 },
 "nbformat": 4,
 "nbformat_minor": 2
}
